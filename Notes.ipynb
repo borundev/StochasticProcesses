{
 "cells": [
  {
   "cell_type": "markdown",
   "metadata": {},
   "source": [
    "# Ornstein-Uhlenbeck Processes"
   ]
  },
  {
   "cell_type": "markdown",
   "metadata": {},
   "source": [
    "## Brownian Motion"
   ]
  },
  {
   "cell_type": "markdown",
   "metadata": {},
   "source": [
    "### Velocity Process"
   ]
  },
  {
   "cell_type": "markdown",
   "metadata": {},
   "source": [
    "We will take the Lagevin equation and solve it both analytically and numerically. \n",
    "\n",
    "$$ \\newcommand{\\f}[2]{\\frac{#1}{#2}}\n",
    "\\newcommand{\\mean}[1]{\\langle #1 \\rangle}\n",
    "$$\n",
    "\n",
    "The change in velocity process involves a deterministic drag piece and a stochastic force piece\n",
    "\n",
    "$$ V(t+dt)= V(t) - \\gamma V(t) dt + \\beta dW_t $$\n",
    "\n",
    "This is written in the SDE language as\n",
    "$$ dV(t) = - \\gamma V(t) dt + \\beta dW_t~.$$\n",
    "\n",
    "\n",
    "Using standard techniques this can be solved to give\n",
    "$$ V(t)  = v_0 e^{-\\gamma t} + \\beta e^{-\\gamma t} \\int_0^t e^{\\gamma t'} dW_{t'}$$ \n",
    "as can be verified by direct substitution. \n",
    "\n",
    "\n",
    "\n",
    "However this form is not particularly illuminating. Instead we observe that at every instant we add an independent normal to the velocity and thus the velocity will be given by a normal distribution. Since the normal distribution is completely determinded by its first two moments we only need to evaluate those. Taking an expectation value of both sides of the SDE we get the ODE\n",
    "\n",
    "$$ \\begin{eqnarray}\n",
    "d \\mean{V(t)} &=& - \\gamma \\mean{V(t)} dt\n",
    "\\end{eqnarray}\n",
    "$$\n",
    "\n",
    "The solution to this ODE is\n",
    "\n",
    "$$ \\mean{V(t)} = v_0 e^{-\\gamma t}$$.\n",
    "\n",
    "Now we look for the variance. We use Ito's rule to get the SDE\n",
    "$$\n",
    "\\begin{eqnarray}\n",
    "dV^2(t) &=& 2 V(t) dV(t) + {dV(t)}^2 \\\\\n",
    "&=& (-2 \\gamma V(t)^2 + \\beta^2) dt + 2 V(t) \\beta dW_t\n",
    "\\end{eqnarray}\n",
    "$$\n",
    "\n",
    "Taking the expectation value of this SDE we get the ODE\n",
    "\n",
    "$$\\begin{eqnarray}\n",
    "d \\mean{V^2(t)} &=& (\\beta^2-2 \\gamma \\mean{V^2(t)}) dt\n",
    "\\end{eqnarray}\n",
    "$$\n",
    "\n",
    "The solution to this ODE consistent with the initial condition $V(0)=v_0$ is\n",
    "$$\n",
    "\\mean{V^2(t)}= v_0^2 e^{-2 \\gamma t} +  \\f{\\beta^2}{2 \\gamma} (1- e^{-2 \\gamma t})\n",
    "$$\n",
    "\n",
    "Therefore we get\n",
    "$$\n",
    "var(V(t))=\\f{\\beta^2}{2 \\gamma} (1- e^{-2 \\gamma t})\n",
    "$$\n",
    "\n",
    "This finally gives\n",
    "\n",
    "$$\n",
    "V(t) = \\mathcal N \\Big( v_0 e^{-\\gamma t}, \\sqrt{ \\f{\\beta^2}{2 \\gamma} (1- e^{-2 \\gamma t})}\\Big)\n",
    "$$\n"
   ]
  },
  {
   "cell_type": "markdown",
   "metadata": {},
   "source": [
    "### Position Process"
   ]
  },
  {
   "cell_type": "markdown",
   "metadata": {},
   "source": [
    "The SDE for position is given by\n",
    "\n",
    "$$\n",
    "dX(t)= V(t) dt\n",
    "$$\n",
    "and using Ito's rule we get\n",
    "$$\n",
    "\\begin{eqnarray}\n",
    "dX^2(t)&=&2 X(t) dX(t) + d X(t)^2 \\\\\n",
    "&=& 2 X(t) V(t) dt\n",
    "\\end{eqnarray}\n",
    "$$\n",
    "and\n",
    "$$\n",
    "\\begin{eqnarray}\n",
    "d(XV(t)) &=& V(t) dX(t) + X(t) dV(t) + dX(t) dV(t) \\\\\n",
    "&=& (V^2(t) - X(t) V(t))dt + \\beta X(t) dW_t\n",
    "\\end{eqnarray}\n",
    "$$\n",
    "\n",
    "Taking the expectation values of these we get the ODEs\n",
    "$$ \n",
    "\\begin{eqnarray}\n",
    "d\\mean{X(t)} &=& \\mean{V(t)} dt = v_0 e^{-\\gamma t} \\\\\n",
    "d\\mean{X^2(t)} &=& 2 \\mean{X(t) V(t)} dt  \\\\\n",
    "d \\mean{XV(t)} &=& - \\gamma \\mean{XV(t)} dt + \\mean{V^2(t)} dt\n",
    "\\end{eqnarray}\n",
    "$$\n",
    "The first can be solved to\n",
    "$$\n",
    "\\mean{X(t)} = x_0 + \\f{v_0}{\\gamma} (1- e^{-\\gamma t})\n",
    "$$\n",
    "For the others we massage them to get\n",
    "$$\n",
    "\\begin{eqnarray}\n",
    "\\f{d var(X(t))}{dt} &=&  \\f{d \\mean{X^2(t)}}{dt}  - 2 \\mean{X(t)} \\f{d \\mean{X(t)}}{dt} \\\\\n",
    "&=& 2 cov(X(t), V(t))\n",
    "\\end{eqnarray}$$\n",
    "and\n",
    "$$\n",
    "\\begin{eqnarray}\n",
    "\\f{d cov(X(t),V(t))}{dt} &=&  \\f{d \\mean{X(t) V(t)}}{dt}  -  \\mean{X(t)} \\f{d \\mean{V(t)}}{dt}-\\mean{V(t)} \\f{d \\mean{X(t)}}{dt} \\\\\n",
    "&=& \\mean{V^2(t)} - \\gamma \\mean{X(t) V(t)}+ \\gamma \\mean{X(t)} \\mean{V(t)} -\\mean{V(t)}^2 \\\\\n",
    "&=& var(V(t)) - \\gamma cov(X(t),V(t))\n",
    "\\end{eqnarray}$$\n",
    "\n",
    "Therefore we get\n",
    "$$\n",
    "cov(X(t) V(t)) = \\f{\\beta^2}{2 \\gamma^2}(1- 2 e^{-\\gamma t}+ e^{-2 \\gamma t})~,\n",
    "$$\n",
    "and \n",
    "$$\n",
    "var(X(t)) = \\f{\\beta^2}{\\gamma^2} \\left[ t - \\f{2}{\\gamma}(1- e^{-\\gamma t}) + \\f{1}{2 \\gamma} (1- e^{-2 \\gamma t}) \\right]\n",
    "$$\n",
    "\n",
    "Thus collecting all the results\n",
    "$$\n",
    "X(t) =  \\mathcal N \\Big( x_0 + \\f{v_0}{\\gamma} (1- e^{-\\gamma t}),  \\f{\\beta}{\\gamma} \\sqrt{  t - \\f{2}{\\gamma}(1- e^{-\\gamma t}) + \\f{1}{2 \\gamma} (1- e^{-2 \\gamma t})}\\Big)\n",
    "$$\n"
   ]
  },
  {
   "cell_type": "markdown",
   "metadata": {},
   "source": [
    "## Plots of Analytical Expressions"
   ]
  },
  {
   "cell_type": "code",
   "execution_count": 67,
   "metadata": {
    "collapsed": false
   },
   "outputs": [
    {
     "data": {
      "text/plain": [
       "<matplotlib.legend.Legend at 0x10b9a8ad0>"
      ]
     },
     "execution_count": 67,
     "metadata": {},
     "output_type": "execute_result"
    },
    {
     "data": {
      "image/png": "[encoded data removed]",
      "text/plain": [
       "<matplotlib.figure.Figure at 0x10b523b10>"
      ]
     },
     "metadata": {},
     "output_type": "display_data"
    }
   ],
   "source": [
    "import matplotlib.pyplot as plt\n",
    "%matplotlib inline\n",
    "\n",
    "\n",
    "beta=1.0\n",
    "gamma=1.0\n",
    "v0=1.0\n",
    "x0=0.0\n",
    "t=np.linspace(0,10,100)\n",
    "var_vel=(beta**2/(2 * gamma))* (1- np.exp(-2*gamma*t))\n",
    "var_pos=(beta/gamma)**2*(t-2/gamma*(1-np.exp(-gamma*t))+1/(2*gamma)*(1-np.exp(-2*gamma*t)))\n",
    "\n",
    "\n",
    "\n",
    "'''\n",
    "plt.plot(t,var)\n",
    "plt.xlabel(\"t\")\n",
    "plt.ylabel(\"var V(t)\")\n",
    "plt.show()\n",
    "\n",
    "plt.clf()\n",
    "\n",
    "plt.plot(t,var)\n",
    "plt.xlabel(\"t\")\n",
    "plt.ylabel(\"var X(t)\")\n",
    "plt.show()\n",
    "\n",
    "plt.clf()\n",
    "'''\n",
    "\n",
    "vmean=v0*np.exp(-gamma*t)\n",
    "vup=vmean+.5*var_vel\n",
    "vdown=vmean-.5*var_vel\n",
    "plt.subplot(121)\n",
    "plt.plot(t,vmean,label=\"mean velocity\")\n",
    "plt.plot(t,vup,label=\"+ .5 sigma\")\n",
    "plt.plot(t,vdown,label=\" - .5 sigma\")\n",
    "plt.legend()\n",
    "\n",
    "\n",
    "plt.subplot(122)\n",
    "xmean=x0+v0/gamma*(1- np.exp(-gamma*t))\n",
    "xup=xmean+.5*var\n",
    "xdown=xmean-.5*var\n",
    "plt.plot(t,xmean,label=\"mean position\")\n",
    "plt.plot(t,xup,label=\"+ .5 sigma\")\n",
    "plt.plot(t,xdown,label=\"- .5 sigma\")\n",
    "plt.legend()\n"
   ]
  },
  {
   "cell_type": "code",
   "execution_count": null,
   "metadata": {
    "collapsed": true
   },
   "outputs": [],
   "source": []
  }
 ],
 "metadata": {
  "kernelspec": {
   "display_name": "Python 2",
   "language": "python",
   "name": "python2"
  },
  "language_info": {
   "codemirror_mode": {
    "name": "ipython",
    "version": 2
   },
   "file_extension": ".py",
   "mimetype": "text/x-python",
   "name": "python",
   "nbconvert_exporter": "python",
   "pygments_lexer": "ipython2",
   "version": "2.7.11"
  }
 },
 "nbformat": 4,
 "nbformat_minor": 0
}
