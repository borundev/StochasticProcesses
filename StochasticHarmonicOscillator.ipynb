{
 "cells": [
  {
   "cell_type": "markdown",
   "metadata": {},
   "source": [
    "# Brownian Motion For A Harmonic Oscillator"
   ]
  },
  {
   "cell_type": "markdown",
   "metadata": {},
   "source": [
    "We generalize the discussions of the previous chapter to include a quadratic potential term. The SDEs are\n",
    "\n",
    "$$\n",
    "\\newcommand{\\mean}[1]{\\langle #1 \\rangle}\n",
    "\\newcommand{\\f}[2]{\\frac{#1}{#2}}\n",
    "\\begin{eqnarray}\n",
    "dX(t) &=& V(t) dt \\\\\n",
    "dV(t) &=& - \\left[ \\omega^2 X(t)  + \\gamma V(t) \\right] dt + \\beta dW_t\n",
    "\\end{eqnarray}\n",
    "$$\n",
    "\n",
    "Following through with the steps of the previous chapter we obtain SDEs for $dV^2(t),dX^2(t)$ and $dXV(t)$ using Ito's rule and take expectation values. On massaging the resultant equations we get the following ODEs for the first moments\n",
    "\n",
    "$$\n",
    "\\begin{eqnarray}\n",
    "\\f{d \\mean{X(t)}}{dt} &=& \\mean{V(t)} \\\\\n",
    "\\f{d \\mean{V(t)}}{dt} &=& - \\omega^2 \\mean{X(t)} - \\gamma \\mean{V(t)}\n",
    "\\end{eqnarray}\n",
    "$$\n",
    "\n",
    "and the following for the second moments\n",
    "\n",
    "$$ \\begin{eqnarray}\n",
    "\\f{d var(X(t))}{dt} &=& 2 cov(X(t),V(t)) \\\\\n",
    "\\f{d var(V(t))}{dt} &=& \\beta^2 - 2 \\omega^2 cov(X(t),V(t)) - 2 \\gamma var(V(t)) \\\\\n",
    "\\f{d cov(X(t),V(t))}{dt} &=& var(V(t)-  \\gamma cov(X(t),V(t)) - \\omega^2 var(X(t))\n",
    "\\end{eqnarray}\n",
    "$$\n",
    "\n",
    "As before, since the increments are normally distributed the joint probability distribution of $X(t)$ and $V(t)$ is normal and knowing the first and second moments is sufficient.\n"
   ]
  },
  {
   "cell_type": "code",
   "execution_count": null,
   "metadata": {
    "collapsed": true
   },
   "outputs": [],
   "source": []
  }
 ],
 "metadata": {
  "kernelspec": {
   "display_name": "Python 2",
   "language": "python",
   "name": "python2"
  },
  "language_info": {
   "codemirror_mode": {
    "name": "ipython",
    "version": 2
   },
   "file_extension": ".py",
   "mimetype": "text/x-python",
   "name": "python",
   "nbconvert_exporter": "python",
   "pygments_lexer": "ipython2",
   "version": "2.7.11"
  }
 },
 "nbformat": 4,
 "nbformat_minor": 0
}
